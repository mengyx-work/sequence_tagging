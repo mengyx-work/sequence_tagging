{
 "cells": [
  {
   "cell_type": "code",
   "execution_count": 1,
   "metadata": {
    "collapsed": false
   },
   "outputs": [],
   "source": [
    "import sys, os\n",
    "sys.path.append(os.path.join(os.path.expanduser('~'), 'dev/sequence_tagging'))\n"
   ]
  },
  {
   "cell_type": "code",
   "execution_count": 2,
   "metadata": {
    "collapsed": false
   },
   "outputs": [],
   "source": [
    "#sys.path"
   ]
  },
  {
   "cell_type": "code",
   "execution_count": 3,
   "metadata": {
    "collapsed": false
   },
   "outputs": [
    {
     "data": {
      "text/plain": [
       "'/Users/matt.meng/dev/sequence_tagging'"
      ]
     },
     "execution_count": 3,
     "metadata": {},
     "output_type": "execute_result"
    }
   ],
   "source": [
    "os.path.join(os.path.expanduser('~'), 'dev/sequence_tagging')"
   ]
  },
  {
   "cell_type": "code",
   "execution_count": 4,
   "metadata": {
    "collapsed": false
   },
   "outputs": [],
   "source": [
    "from model.config import Config\n",
    "from model.data_utils import CoNLLDataset, get_vocabs, UNK, NUM, \\\n",
    "    get_glove_vocab, write_vocab, load_vocab, get_char_vocab, \\\n",
    "    export_trimmed_glove_vectors, get_processing_word"
   ]
  },
  {
   "cell_type": "code",
   "execution_count": 5,
   "metadata": {
    "collapsed": true
   },
   "outputs": [],
   "source": [
    "config = Config(load=False)\n",
    "processing_word = get_processing_word(lowercase=True)"
   ]
  },
  {
   "cell_type": "code",
   "execution_count": 6,
   "metadata": {
    "collapsed": false
   },
   "outputs": [
    {
     "data": {
      "text/plain": [
       "20"
      ]
     },
     "execution_count": 6,
     "metadata": {},
     "output_type": "execute_result"
    }
   ],
   "source": [
    "config.batch_size"
   ]
  },
  {
   "cell_type": "markdown",
   "metadata": {},
   "source": [
    "#### the `processing_word` funcion is passed into the `CoNLLDataset` initialization function"
   ]
  },
  {
   "cell_type": "code",
   "execution_count": 7,
   "metadata": {
    "collapsed": true
   },
   "outputs": [],
   "source": [
    "dev   = CoNLLDataset(config.filename_dev, processing_word)\n",
    "test  = CoNLLDataset(config.filename_test, processing_word)\n",
    "train = CoNLLDataset(config.filename_train, processing_word)"
   ]
  },
  {
   "cell_type": "code",
   "execution_count": 8,
   "metadata": {
    "collapsed": false
   },
   "outputs": [
    {
     "data": {
      "text/plain": [
       "'data/test.txt'"
      ]
     },
     "execution_count": 8,
     "metadata": {},
     "output_type": "execute_result"
    }
   ],
   "source": [
    "train.filename"
   ]
  },
  {
   "cell_type": "code",
   "execution_count": 10,
   "metadata": {
    "collapsed": false
   },
   "outputs": [
    {
     "name": "stdout",
     "output_type": "stream",
     "text": [
      "Building vocab...\n",
      "- done. 21 tokens\n"
     ]
    }
   ],
   "source": [
    "vocab_words, vocab_tags = get_vocabs([train, dev, test])"
   ]
  },
  {
   "cell_type": "code",
   "execution_count": 12,
   "metadata": {
    "collapsed": false
   },
   "outputs": [
    {
     "data": {
      "text/plain": [
       "{'B-LOC', 'B-MISC', 'B-ORG', 'B-PER', 'I-LOC', 'I-MISC', 'I-ORG', 'I-PER', 'O'}"
      ]
     },
     "execution_count": 12,
     "metadata": {},
     "output_type": "execute_result"
    }
   ],
   "source": [
    "vocab_tags"
   ]
  },
  {
   "cell_type": "code",
   "execution_count": null,
   "metadata": {
    "collapsed": true
   },
   "outputs": [],
   "source": [
    "vocab_glove = get_glove_vocab(config.filename_glove)"
   ]
  },
  {
   "cell_type": "code",
   "execution_count": null,
   "metadata": {
    "collapsed": true
   },
   "outputs": [],
   "source": []
  },
  {
   "cell_type": "markdown",
   "metadata": {},
   "source": [
    "#### in training step, a different config object is created, mainly the `load` function is used\n",
    " 1. different sets of data: words, tags and chars are loaded from pickle files\n",
    " 2. the `load` function creates different lambda function from `get_processing_word` for tag and word processing\n",
    " 2. embedding is loaded"
   ]
  },
  {
   "cell_type": "code",
   "execution_count": 19,
   "metadata": {
    "collapsed": true
   },
   "outputs": [],
   "source": [
    "config = Config()"
   ]
  },
  {
   "cell_type": "markdown",
   "metadata": {},
   "source": [
    "#### the lambda functions from `config` is passed into the `CoNLLDataset`"
   ]
  },
  {
   "cell_type": "code",
   "execution_count": 20,
   "metadata": {
    "collapsed": false
   },
   "outputs": [],
   "source": [
    "train = CoNLLDataset(config.filename_train, config.processing_word, config.processing_tag, config.max_iter)"
   ]
  },
  {
   "cell_type": "code",
   "execution_count": 27,
   "metadata": {
    "collapsed": false
   },
   "outputs": [
    {
     "name": "stdout",
     "output_type": "stream",
     "text": [
      "\n",
      "7 [([4, 12, 10, 20], 22), ([6, 14, 12, 23, 23, 12], 16), ([18, 14, 27, 12, 22], 17), ([14, 20], 5), ([5, 12, 26], 12), ([9, 19, 23, 16], 18), ([0], 10)] [3, 4, 2, 2, 8, 0, 2]\n",
      "\n",
      "9 [([8, 15, 12], 19), ([2, 24, 23, 19, 21, 12, 10, 20], 13), ([7, 20, 14, 19, 20], 7), ([14, 22], 1), ([10], 20), ([21, 19, 18, 14, 25, 14, 11, 10, 18], 8), ([10, 20, 13], 0), ([12, 11, 19, 20, 19, 17, 14, 11], 4), ([24, 20, 14, 19, 20], 7)] [2, 1, 7, 2, 2, 2, 2, 2, 2]\n",
      "\n",
      "7 [([1], 20), ([3, 23, 12, 20, 11, 15], 15), ([1, 17, 12, 23, 14, 11, 10, 20], 21), ([10, 11, 25, 19, 23], 9), ([26, 19, 20], 11), ([10, 20], 3), ([19, 22, 11, 10, 23], 14)] [2, 6, 5, 2, 2, 2, 2]\n",
      "\n",
      "7 [([4, 12, 10, 20], 22), ([6, 14, 12, 23, 23, 12], 16), ([18, 14, 27, 12, 22], 17), ([14, 20], 5), ([5, 12, 26], 12), ([9, 19, 23, 16], 18), ([0], 10)] [3, 4, 2, 2, 8, 0, 2]\n",
      "\n",
      "9 [([8, 15, 12], 19), ([2, 24, 23, 19, 21, 12, 10, 20], 13), ([7, 20, 14, 19, 20], 7), ([14, 22], 1), ([10], 20), ([21, 19, 18, 14, 25, 14, 11, 10, 18], 8), ([10, 20, 13], 0), ([12, 11, 19, 20, 19, 17, 14, 11], 4), ([24, 20, 14, 19, 20], 7)] [2, 1, 7, 2, 2, 2, 2, 2, 2]\n",
      "\n",
      "7 [([1], 20), ([3, 23, 12, 20, 11, 15], 15), ([1, 17, 12, 23, 14, 11, 10, 20], 21), ([10, 11, 25, 19, 23], 9), ([26, 19, 20], 11), ([10, 20], 3), ([19, 22, 11, 10, 23], 14)] [2, 6, 5, 2, 2, 2, 2]\n",
      "\n",
      "7 [([4, 12, 10, 20], 22), ([6, 14, 12, 23, 23, 12], 16), ([18, 14, 27, 12, 22], 17), ([14, 20], 5), ([5, 12, 26], 12), ([9, 19, 23, 16], 18), ([0], 10)] [3, 4, 2, 2, 8, 0, 2]\n",
      "\n",
      "9 [([8, 15, 12], 19), ([2, 24, 23, 19, 21, 12, 10, 20], 13), ([7, 20, 14, 19, 20], 7), ([14, 22], 1), ([10], 20), ([21, 19, 18, 14, 25, 14, 11, 10, 18], 8), ([10, 20, 13], 0), ([12, 11, 19, 20, 19, 17, 14, 11], 4), ([24, 20, 14, 19, 20], 7)] [2, 1, 7, 2, 2, 2, 2, 2, 2]\n",
      "\n",
      "7 [([1], 20), ([3, 23, 12, 20, 11, 15], 15), ([1, 17, 12, 23, 14, 11, 10, 20], 21), ([10, 11, 25, 19, 23], 9), ([26, 19, 20], 11), ([10, 20], 3), ([19, 22, 11, 10, 23], 14)] [2, 6, 5, 2, 2, 2, 2]\n",
      "\n",
      "7 [([4, 12, 10, 20], 22), ([6, 14, 12, 23, 23, 12], 16), ([18, 14, 27, 12, 22], 17), ([14, 20], 5), ([5, 12, 26], 12), ([9, 19, 23, 16], 18), ([0], 10)] [3, 4, 2, 2, 8, 0, 2]\n",
      "\n",
      "9 [([8, 15, 12], 19), ([2, 24, 23, 19, 21, 12, 10, 20], 13), ([7, 20, 14, 19, 20], 7), ([14, 22], 1), ([10], 20), ([21, 19, 18, 14, 25, 14, 11, 10, 18], 8), ([10, 20, 13], 0), ([12, 11, 19, 20, 19, 17, 14, 11], 4), ([24, 20, 14, 19, 20], 7)] [2, 1, 7, 2, 2, 2, 2, 2, 2]\n"
     ]
    }
   ],
   "source": [
    "for (x, y) in train:\n",
    "    print '\\n', len(x), x, y"
   ]
  },
  {
   "cell_type": "code",
   "execution_count": null,
   "metadata": {
    "collapsed": true
   },
   "outputs": [],
   "source": []
  }
 ],
 "metadata": {
  "kernelspec": {
   "display_name": "Python 2",
   "language": "python",
   "name": "python2"
  },
  "language_info": {
   "codemirror_mode": {
    "name": "ipython",
    "version": 2
   },
   "file_extension": ".py",
   "mimetype": "text/x-python",
   "name": "python",
   "nbconvert_exporter": "python",
   "pygments_lexer": "ipython2",
   "version": "2.7.10"
  }
 },
 "nbformat": 4,
 "nbformat_minor": 2
}
